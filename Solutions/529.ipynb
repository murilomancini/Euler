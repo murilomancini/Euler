{
 "cells": [
  {
   "cell_type": "code",
   "execution_count": 247,
   "metadata": {
    "collapsed": true
   },
   "outputs": [],
   "source": [
    "def t(n):\n",
    "    results = 0\n",
    "    for i in range(1, 10**n):    \n",
    "        if checkStringFriendly(i) == 'True':\n",
    "            results += 1\n",
    "    return results"
   ]
  },
  {
   "cell_type": "code",
   "execution_count": 248,
   "metadata": {},
   "outputs": [],
   "source": [
    "def checkStringFriendly(myString):\n",
    "    currentDigit = 1\n",
    "    restartSequence = 0\n",
    "    sum = 0\n",
    "    boolFactor = bool('false')\n",
    "    while currentDigit <= len(str(myString)):\n",
    "        #print(str(myString)[restartSequence:currentDigit])        \n",
    "        print(sum)\n",
    "        if int(sum) < 10:\n",
    "                #print('menor')\n",
    "                #print(str(myString)[restartSequence:currentDigit])\n",
    "                sum = int(checkSum(str(myString)[restartSequence:currentDigit]))                \n",
    "        else:\n",
    "            if int(sum) == 10: \n",
    "                    #print('igual')\n",
    "                    sum = int(checkSum(str(myString)[restartSequence:currentDigit])) \n",
    "                    #print(str(myString)[restartSequence:currentDigit])\n",
    "                    restartSequence = currentDigit\n",
    "                    boolFactor = 'True'                    \n",
    "            else:\n",
    "                    #print('maior')\n",
    "                    return 'False'                    \n",
    "        currentDigit += 1 \n",
    "    return boolFactor"
   ]
  },
  {
   "cell_type": "code",
   "execution_count": 249,
   "metadata": {},
   "outputs": [],
   "source": [
    "def checkSum(mySequenceChar):\n",
    "    currentDigit = 0\n",
    "    mysum = 0\n",
    "    while currentDigit <= len(str(mySequenceChar))-1:\n",
    "        mysum += int(str(mySequenceChar)[ currentDigit : currentDigit +1])\n",
    "        currentDigit += 1\n",
    "    return mysum"
   ]
  },
  {
   "cell_type": "code",
   "execution_count": 250,
   "metadata": {},
   "outputs": [
    {
     "name": "stdout",
     "output_type": "stream",
     "text": [
      "0\n0\n0\n0\n0\n0\n0\n0\n0\n0\n1\n0\n1\n0\n1\n0\n1\n0\n1\n0\n1\n0\n1\n0\n1\n0\n1\n0\n1\n0\n2\n0\n2\n0\n2\n0\n2\n0\n2\n0\n2\n0\n2\n0\n2\n0\n2\n0\n2\n0\n3\n0\n3\n0\n3\n0\n3\n0\n3\n0\n3\n0\n3\n0\n3\n0\n3\n0\n3\n0\n4\n0\n4\n0\n4\n0\n4\n0\n4\n0\n4\n0\n4\n0\n4\n0\n4\n0\n4\n0\n5\n0\n5\n0\n5\n0\n5\n0\n5\n0\n5\n0\n5\n0\n5\n0\n5\n0\n5\n0\n6\n0\n6\n0\n6\n0\n6\n0\n6\n0\n6\n0\n6\n0\n6\n0\n6\n0\n6\n0\n7\n0\n7\n0\n7\n0\n7\n0\n7\n0\n7\n0\n7\n0\n7\n0\n7\n0\n7\n0\n8\n0\n8\n0\n8\n0\n8\n0\n8\n0\n8\n0\n8\n0\n8\n0\n8\n0\n8\n0\n9\n0\n9\n0\n9\n0\n9\n0\n9\n0\n9\n0\n9\n0\n9\n0\n9\n0\n9\n"
     ]
    },
    {
     "data": {
      "text/plain": [
       "0"
      ]
     },
     "execution_count": 250,
     "metadata": {},
     "output_type": "execute_result"
    }
   ],
   "source": [
    "t(2)"
   ]
  },
  {
   "cell_type": "code",
   "execution_count": null,
   "metadata": {},
   "outputs": [],
   "source": []
  }
 ],
 "metadata": {
  "kernelspec": {
   "display_name": "Python 2",
   "language": "python",
   "name": "python2"
  },
  "language_info": {
   "codemirror_mode": {
    "name": "ipython",
    "version": 2
   },
   "file_extension": ".py",
   "mimetype": "text/x-python",
   "name": "python",
   "nbconvert_exporter": "python",
   "pygments_lexer": "ipython2",
   "version": "2.7.6"
  }
 },
 "nbformat": 4,
 "nbformat_minor": 0
}
